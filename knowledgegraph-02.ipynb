{
 "cells": [
  {
   "cell_type": "markdown",
   "metadata": {},
   "source": []
  },
  {
   "cell_type": "code",
   "execution_count": 7,
   "metadata": {},
   "outputs": [],
   "source": [
    "# Import necessary libraries\n",
    "from langchain_core.runnables import (\n",
    "    RunnableBranch,\n",
    "    RunnableLambda,\n",
    "    RunnableParallel,\n",
    "    RunnablePassthrough,\n",
    ")\n",
    "from langchain_core.prompts import ChatPromptTemplate\n",
    "from langchain_core.prompts.prompt import PromptTemplate\n",
    "from langchain_core.pydantic_v1 import BaseModel, Field\n",
    "from typing import Tuple, List, Optional\n",
    "from langchain_core.messages import AIMessage, HumanMessage\n",
    "from langchain_core.output_parsers import StrOutputParser\n",
    "import os\n",
    "from langchain_community.graphs import Neo4jGraph\n",
    "from langchain.document_loaders import WikipediaLoader\n",
    "from langchain.text_splitter import TokenTextSplitter\n",
    "from langchain_openai import ChatOpenAI, OpenAIEmbeddings\n",
    "from langchain_experimental.graph_transformers import LLMGraphTransformer\n",
    "from neo4j import GraphDatabase\n",
    "from yfiles_jupyter_graphs import GraphWidget\n",
    "from langchain_community.vectorstores import Neo4jVector\n",
    "from langchain_community.vectorstores.neo4j_vector import remove_lucene_chars\n",
    "from langchain_core.runnables import ConfigurableField, RunnableParallel, RunnablePassthrough\n",
    "from langchain.chains import GraphCypherQAChain, RetrievalQA\n",
    "from langchain_core.documents import Document\n",
    "import pandas as pd\n",
    "\n",
    "import warnings\n",
    "warnings.filterwarnings(\"ignore\")\n",
    "\n",
    "# Load environment variables\n",
    "from dotenv import load_dotenv\n",
    "load_dotenv()\n",
    "\n",
    "\n",
    "# Access the variables\n",
    "NEO4J_URI = os.getenv(\"NEO4J_URI\")\n",
    "NEO4J_USERNAME = os.getenv(\"NEO4J_USERNAME\")\n",
    "NEO4J_PASSWORD = os.getenv(\"NEO4J_PASSWORD\")\n",
    "\n",
    "open_api_key = os.getenv(\"OPEN_API_KEY\")\n",
    "\n",
    "graph = Neo4jGraph()"
   ]
  },
  {
   "cell_type": "code",
   "execution_count": 23,
   "metadata": {},
   "outputs": [],
   "source": [
    "# Initialize OpenAI model and embeddings\n",
    "#llm = ChatOpenAI(model=\"gpt-3.5-turbo-0125\")\n",
    "llm = ChatOpenAI(model=\"gpt-4-turbo\")\n",
    "embeddings = OpenAIEmbeddings(model=\"text-embedding-ada-002\")"
   ]
  },
  {
   "cell_type": "code",
   "execution_count": null,
   "metadata": {},
   "outputs": [],
   "source": [
    "# Initialize Neo4j graph\n",
    "os.environ[\"NEO4J_URI\"] = \"bolt://localhost:7687\"  # Replace with your Neo4j URI\n",
    "os.environ[\"NEO4J_USERNAME\"] = \"neo4j\"  # Replace with your Neo4j username\n",
    "os.environ[\"NEO4J_PASSWORD\"] = \"password\"  # Replace with your Neo4j password"
   ]
  },
  {
   "cell_type": "code",
   "execution_count": 24,
   "metadata": {},
   "outputs": [],
   "source": [
    "# Load documents from Wikipedia\n",
    "raw_documents = WikipediaLoader(query=\"French Revolution\", load_max_docs=1).load()"
   ]
  },
  {
   "cell_type": "code",
   "execution_count": 25,
   "metadata": {},
   "outputs": [],
   "source": [
    "# Clean metadata\n",
    "raw_documents = [Document(page_content=doc.page_content, metadata={}) for doc in raw_documents]"
   ]
  },
  {
   "cell_type": "code",
   "execution_count": 26,
   "metadata": {},
   "outputs": [],
   "source": [
    "# Split documents into chunks\n",
    "text_splitter = TokenTextSplitter(chunk_size=512, chunk_overlap=24)\n",
    "documents = text_splitter.split_documents(raw_documents)"
   ]
  },
  {
   "cell_type": "code",
   "execution_count": 27,
   "metadata": {},
   "outputs": [
    {
     "data": {
      "text/plain": [
       "[Document(page_content='The French Revolution (French: Révolution française [ʁevɔlysjɔ̃ fʁɑ̃sɛːz]) was a period of political and societal change in France that began with the Estates General of 1789, and ended with the coup of 18 Brumaire in November 1799 and the formation of the French Consulate. Many of its ideas are considered fundamental principles of liberal democracy, while its values and institutions remain central to modern French political discourse.\\nThe causes of the revolution were a combination of social, political, and economic factors which the ancien régime (\"old regime\") proved unable to manage. A financial crisis and widespread social distress led to the convocation of the Estates General in May 1789, its first meeting since 1614. The representatives of the Third Estate broke away, and re-constituted themselves as a National Assembly in June. The Storming of the Bastille in Paris on 14 July was followed by a series of radical measures by the Assembly, among them the abolition of feudalism, state control over the Catholic Church, and a declaration of rights. The next three years were dominated by the struggle for political control, and military defeats following the outbreak of the French Revolutionary Wars in April 1792 led to an insurrection on 10 August. The monarchy was replaced by the French First Republic in September, and Louis XVI was executed in January 1793. \\nAfter another revolt in June 1793, the constitution was suspended, and adequate political power passed from the National Convention to the Committee of Public Safety, led by the Jacobins. About 16,000 people were executed in what was later referred to as Reign of Terror, which ended in July 1794. Weakened by external threats and internal opposition, the Republic was replaced in 1795 by the Directory, and four years later, in 1799, the Consulate seized power in a military coup led by Napoleon Bonaparte on 9 November. This event is generally seen as marking the end of the Revolutionary period.\\n\\n\\n== Causes ==\\n\\nThe Revolution resulted from multiple long-term and short-term factors, culminating in a social, economic, financial and political crisis in the late 1780s. Combined with resistance to reform by the ruling elite, and indecisive policy by Louis XVI and his ministers, the result was a crisis the state was unable to manage.\\nBetween 1715 and 1789, the French population grew from 21 to 28 million,'),\n",
       " Document(page_content=\" state was unable to manage.\\nBetween 1715 and 1789, the French population grew from 21 to 28 million, 20% of whom lived in towns or cities, Paris alone having over 600,000 inhabitants. This was accompanied by a tripling in the size of the middle class, which comprised almost 10% of the population by 1789. Despite increases in overall prosperity, its benefits were largely restricted to the rentier and mercantile classes, while the living standards fell for wage labourers and peasant farmers who rented their land. Economic recession from 1785, combined with bad harvests in 1787 and 1788, led to high unemployment and food prices, causing a financial and political crisis.\\nWhile the state also experienced a debt crisis, the level of debt itself was not high compared with Britain's. A significant problem was that tax rates varied widely from one region to another, were often different from the official amounts, and collected inconsistently. Its complexity meant uncertainty over the amount contributed by any authorised tax caused resentment among all taxpayers. Attempts to simplify the system were blocked by the regional Parlements which approved financial policy. The resulting impasse led to the calling of the Estates General of 1789, which became radicalised by the struggle for control of public finances.\\nLouis XVI was willing to consider reforms, but often backed down when faced with opposition from conservative elements within the nobility. Enlightenment critiques of social institutions were widely discussed among the educated French elite. At the same time, the American Revolution and the European revolts of the 1780s inspired public debate on issues such as patriotism, liberty, e\")]"
      ]
     },
     "execution_count": 27,
     "metadata": {},
     "output_type": "execute_result"
    }
   ],
   "source": [
    "documents"
   ]
  },
  {
   "cell_type": "code",
   "execution_count": 28,
   "metadata": {},
   "outputs": [],
   "source": [
    "# Convert documents to graph documents\n",
    "llm_transformer = LLMGraphTransformer(llm=llm)"
   ]
  },
  {
   "cell_type": "code",
   "execution_count": 29,
   "metadata": {},
   "outputs": [],
   "source": [
    "from langchain_openai import ChatOpenAI\n",
    "from langchain_experimental.graph_transformers import LLMGraphTransformer\n",
    "\n",
    "# Initialize the LLM\n",
    "#llm = ChatOpenAI(model=\"gpt-3.5-turbo-0125\")\n",
    "llm = ChatOpenAI(model=\"gpt-4-turbo\")\n",
    "\n",
    "# Initialize the LLMGraphTransformer with the LLM\n",
    "llm_transformer = LLMGraphTransformer(llm=llm)"
   ]
  },
  {
   "cell_type": "code",
   "execution_count": 30,
   "metadata": {},
   "outputs": [
    {
     "name": "stdout",
     "output_type": "stream",
     "text": [
      "content=\"leading to increased demand for land, food, and goods. However, economic growth did not keep pace with population growth, contributing to widespread poverty and discontent among the lower classes, particularly the peasants and urban poor. The agrarian crisis of the late 1780s, marked by poor harvests that led to famine and increased bread prices, heightened the economic distress.\\n\\nSocially, France was divided into three estates: the clergy (First Estate), the nobility (Second Estate), and the commoners (Third Estate). The First and Second Estates were privileged classes enjoying significant economic, social, and political benefits, while the Third Estate, comprising about 98% of the population, shouldered the majority of the tax burdens yet had minimal political power. This stark inequality contributed to resentment and a demand for social change.\\n\\nPolitically, the French monarchy was absolute, and the ancien régime was characterized by a lack of representative institutions and widespread corruption and inefficiency within the state bureaucracy. King Louis XVI's lack of decisive leadership and failure to resolve the financial crisis—exacerbated by France's involvement in expensive wars, including support for the American Revolution—further destabilized the country. The national debt had grown to unprecedented levels, leading to increased taxation and public unrest.\\n\\nThe intellectual movement known as the Enlightenment also played a crucial role. Enlightenment thinkers such as Voltaire, Rousseau, and Montesquieu criticized traditional structures of power and authority, advocating for principles such as equality, freedom, and democracy. These ideas resonated with the increasingly literate public and inspired widespread political debate and the questioning of the legitimacy of the monarchy and the existing social order.\\n\\nBy 1789, the convergence of these economic, social, political, and intellectual pressures made the existing system untenable. The summoning of the Estates General in May 1789 provided a platform for these grievances to be aired publicly, setting the stage for revolutionary change. The failure of the Estates General to address the immediate financial crisis and the subsequent formation of the National Assembly by the Third Estate marked the beginning of a series of events that would lead to the radical transformation of French society and government.\" response_metadata={'token_usage': {'completion_tokens': 434, 'prompt_tokens': 526, 'total_tokens': 960, 'prompt_tokens_details': {'cached_tokens': 0, 'audio_tokens': 0}, 'completion_tokens_details': {'reasoning_tokens': 0, 'audio_tokens': 0, 'accepted_prediction_tokens': 0, 'rejected_prediction_tokens': 0}}, 'model_name': 'gpt-4-turbo', 'system_fingerprint': 'fp_1a5512f3de', 'finish_reason': 'stop', 'logprobs': None} id='run-e28755b2-dd49-4de9-8fff-4a34dfeae09a-0'\n",
      "content='quality, and the legitimacy of monarchical rule. These debates permeated through salons and pamphlets, reaching a broad audience and fueling a growing dissent against the traditional structures of power.\\n\\nThe financial turmoil and the inability of the French monarchy to address the crisis effectively exacerbated public discontent. The Estates General of 1789, initially seen as a potential forum for reform, quickly became a battleground where different societal groups sought to assert their interests. The Third Estate, representing the common people, found itself at odds with the First (clergy) and Second (nobility) Estates, both of which were keen to protect their traditional privileges.\\n\\nThe impasse at the Estates General led to the pivotal moment on June 17, 1789, when the Third Estate declared itself the National Assembly, intent on drafting a constitution. This act marked the beginning of a radical shift in French politics, culminating in the storming of the Bastille on July 14, 1789, a date now celebrated as Bastille Day, symbolizing the overthrow of the ancien régime.\\n\\nAs the Revolution progressed, the National Assembly passed significant reforms including the abolition of feudal privileges, the declaration of rights, and the restructuring of French governance into a constitutional monarchy. However, these changes did not immediately resolve the economic hardships or social inequalities, and France remained engulfed in political and social upheavals, leading eventually to the rise of more radical elements and the onset of the Reign of Terror.\\n\\nThe French Revolution fundamentally altered the social and political landscape of France, setting the stage for modern nation-states by advocating for principles of liberty, equality, and fraternity. These ideals, though inconsistently applied, would continue to inspire and challenge future generations both in France and around the world.' response_metadata={'token_usage': {'completion_tokens': 353, 'prompt_tokens': 343, 'total_tokens': 696, 'prompt_tokens_details': {'cached_tokens': 0, 'audio_tokens': 0}, 'completion_tokens_details': {'reasoning_tokens': 0, 'audio_tokens': 0, 'accepted_prediction_tokens': 0, 'rejected_prediction_tokens': 0}}, 'model_name': 'gpt-4-turbo', 'system_fingerprint': 'fp_1e9a2d1e89', 'finish_reason': 'stop', 'logprobs': None} id='run-ce2f6fc8-a733-4eef-b5cf-1a2bef6a053f-0'\n"
     ]
    }
   ],
   "source": [
    "# Print the raw response from the LLM\n",
    "for doc in documents:\n",
    "    response = llm.invoke(doc.page_content)\n",
    "    print(response)"
   ]
  },
  {
   "cell_type": "code",
   "execution_count": 31,
   "metadata": {},
   "outputs": [],
   "source": [
    "\n",
    "graph_documents = llm_transformer.convert_to_graph_documents(documents)"
   ]
  },
  {
   "cell_type": "code",
   "execution_count": 32,
   "metadata": {},
   "outputs": [],
   "source": [
    "# Add graph documents to Neo4j\n",
    "graph.add_graph_documents(\n",
    "    graph_documents,\n",
    "    baseEntityLabel=True,\n",
    "    include_source=True\n",
    ")"
   ]
  },
  {
   "cell_type": "code",
   "execution_count": 33,
   "metadata": {},
   "outputs": [
    {
     "data": {
      "application/vnd.jupyter.widget-view+json": {
       "model_id": "2b02e4ef062d4f0f915e3a1f5e6c0a45",
       "version_major": 2,
       "version_minor": 0
      },
      "text/plain": [
       "GraphWidget(layout=Layout(height='700px', width='100%'))"
      ]
     },
     "metadata": {},
     "output_type": "display_data"
    }
   ],
   "source": [
    "# Visualize the graph\n",
    "default_cypher = \"MATCH (s)-[r:!MENTIONS]->(t) RETURN s,r,t LIMIT 50\"\n",
    "\n",
    "def showGraph(cypher: str = default_cypher):\n",
    "    driver = GraphDatabase.driver(\n",
    "        uri=os.environ[\"NEO4J_URI\"],\n",
    "        auth=(os.environ[\"NEO4J_USERNAME\"], os.environ[\"NEO4J_PASSWORD\"])\n",
    "    )\n",
    "    session = driver.session()\n",
    "    widget = GraphWidget(graph=session.run(cypher).graph())\n",
    "    widget.node_label_mapping = 'id'\n",
    "    return widget\n",
    "\n",
    "showGraph()"
   ]
  },
  {
   "cell_type": "code",
   "execution_count": 34,
   "metadata": {},
   "outputs": [],
   "source": [
    "# Create a vector index from the existing graph\n",
    "vector_index = Neo4jVector.from_existing_graph(\n",
    "    embeddings,\n",
    "    search_type=\"hybrid\",\n",
    "    node_label=\"Document\",\n",
    "    text_node_properties=[\"text\"],\n",
    "    embedding_node_property=\"embedding\"\n",
    ")"
   ]
  },
  {
   "cell_type": "code",
   "execution_count": 35,
   "metadata": {},
   "outputs": [
    {
     "name": "stdout",
     "output_type": "stream",
     "text": [
      "\n",
      "text: \n",
      "Mr. and Mrs. Dursley, of number four, Privet Drive, were proud to say\n",
      "that they were perfectly normal, thank you very much. They were the last\n",
      "people you'd expect to be involved in anything strange or mysterious,\n",
      "because they just didn't hold with such nonsense.\n",
      "Mr. Dursley was the director of a firm called Grunnings, which made\n",
      "drills. He was a big, beefy man with hardly any neck, although he did\n",
      "have a very large mustache. Mrs. Dursley was thin and blonde and had\n",
      "nearly twice the usual amount of neck, which came in very useful as she\n",
      "spent so much of her time craning over garden fences, spying on the\n",
      "neighbors. The Dursleys had a small son called Dudley and in their\n",
      "opinion there was no finer boy anywhere.\n",
      "The Dursleys had everything they wanted, but they also had a secret, and\n",
      "their greatest fear was that somebody would discover it. They didn't\n",
      "think they could bear it if anyone found out about the Potters. Mrs.\n",
      "Potter was Mrs. Dursley's sister, but they hadn't met for several years;\n",
      "in fact, Mrs. Dursley pretended she didn't have a sister, because her\n",
      "sister and her good-for-nothing husband were as unDursleyish as it was\n",
      "possible to be. The Dursleys shuddered to think what the neighbors would\n",
      "say if the Potters arrived in the street. The Dursleys knew that the\n",
      "Potters had a small son, too, but they had never even seen him. This boy\n",
      "was another good reason for keeping the Potters away; they didn't want\n",
      "Dudley mixing with a child like that.\n",
      "\n"
     ]
    }
   ],
   "source": [
    "# Query the graph\n",
    "query = \"Who is Dudley?\"\n",
    "results = vector_index.similarity_search(query, k=1)\n",
    "print(results[0].page_content)"
   ]
  },
  {
   "cell_type": "code",
   "execution_count": 37,
   "metadata": {},
   "outputs": [],
   "source": [
    "# Define questions for evaluation\n",
    "questions = [\n",
    "    \"How did the economic policies of the Ancien Régime contribute to the financial crisis that precipitated the French Revolution?\",\n",
    "    \"In what ways did the social and political structure of the Estates-General contribute to its transformation into the National Assembly?\",\n",
    "    \"What role did economic depression and military defeats play in the radicalization of the French Revolution in 1792?\",\n",
    "    \"How did the French Revolutionary Wars affect the internal political landscape of France from 1792 to 1799?\",\n",
    "    \"Examine the socio-economic reasons behind the calling of the Estates-General in 1789.\",\n",
    "    \"How did Enlightenment ideas influence the legislative reforms of the National Assembly?\",\n",
    "    \"What event directly led to the transformation of the Estates-General into the National Assembly in June 1789?\",\n",
    "    \"Which radical measure taken by the National Assembly on July 14, 1789, symbolically marked the beginning of the French Revolution?\",\n",
    "    \"Which governing body replaced the National Convention after the fall of Robespierre in 1794?\",\n",
    "    \"What significant political change occurred in France on 18 Brumaire in 1799?\",\n",
    "    \"Considering the financial difficulties faced by the Ancien Régime, how did the complex and inconsistent tax system contribute to the financial instability and eventual calling of the Estates-General?\",\n",
    "    \"What role did the socio-economic pressures such as the increase in the population and the widening gap between the rich and the poor play in setting the stage for the French Revolution?\",\n",
    "    \"How did the financial crisis, exacerbated by poor harvests and high food prices, lead to the convening of the Estates-General in 1789?\",\n",
    "    \"Discuss the immediate political repercussions of the Storming of the Bastille on the French Revolution.\"\n",
    "]"
   ]
  },
  {
   "cell_type": "code",
   "execution_count": null,
   "metadata": {},
   "outputs": [],
   "source": [
    "from langchain.chains import RetrievalQA\n",
    "\n",
    "# Initialize the RetrievalQA chain with source documents\n",
    "chain = RetrievalQA.from_chain_type(\n",
    "    llm=llm,\n",
    "    retriever=vector_index.as_retriever(),\n",
    "    verbose=True,\n",
    "    return_source_documents=True  # Include source documents in the output\n",
    ")"
   ]
  },
  {
   "cell_type": "code",
   "execution_count": 42,
   "metadata": {},
   "outputs": [
    {
     "name": "stdout",
     "output_type": "stream",
     "text": [
      "\n",
      "\n",
      "\u001b[1m> Entering new RetrievalQA chain...\u001b[0m\n",
      "\n",
      "\u001b[1m> Finished chain.\u001b[0m\n",
      "\n",
      "\n",
      "\u001b[1m> Entering new RetrievalQA chain...\u001b[0m\n",
      "\n",
      "\u001b[1m> Finished chain.\u001b[0m\n",
      "\n",
      "\n",
      "\u001b[1m> Entering new RetrievalQA chain...\u001b[0m\n",
      "\n",
      "\u001b[1m> Finished chain.\u001b[0m\n",
      "\n",
      "\n",
      "\u001b[1m> Entering new RetrievalQA chain...\u001b[0m\n",
      "\n",
      "\u001b[1m> Finished chain.\u001b[0m\n",
      "\n",
      "\n",
      "\u001b[1m> Entering new RetrievalQA chain...\u001b[0m\n",
      "\n",
      "\u001b[1m> Finished chain.\u001b[0m\n",
      "\n",
      "\n",
      "\u001b[1m> Entering new RetrievalQA chain...\u001b[0m\n",
      "\n",
      "\u001b[1m> Finished chain.\u001b[0m\n",
      "\n",
      "\n",
      "\u001b[1m> Entering new RetrievalQA chain...\u001b[0m\n",
      "\n",
      "\u001b[1m> Finished chain.\u001b[0m\n",
      "\n",
      "\n",
      "\u001b[1m> Entering new RetrievalQA chain...\u001b[0m\n",
      "\n",
      "\u001b[1m> Finished chain.\u001b[0m\n",
      "\n",
      "\n",
      "\u001b[1m> Entering new RetrievalQA chain...\u001b[0m\n",
      "\n",
      "\u001b[1m> Finished chain.\u001b[0m\n",
      "\n",
      "\n",
      "\u001b[1m> Entering new RetrievalQA chain...\u001b[0m\n",
      "\n",
      "\u001b[1m> Finished chain.\u001b[0m\n",
      "\n",
      "\n",
      "\u001b[1m> Entering new RetrievalQA chain...\u001b[0m\n",
      "\n",
      "\u001b[1m> Finished chain.\u001b[0m\n",
      "\n",
      "\n",
      "\u001b[1m> Entering new RetrievalQA chain...\u001b[0m\n",
      "\n",
      "\u001b[1m> Finished chain.\u001b[0m\n",
      "\n",
      "\n",
      "\u001b[1m> Entering new RetrievalQA chain...\u001b[0m\n",
      "\n",
      "\u001b[1m> Finished chain.\u001b[0m\n",
      "\n",
      "\n",
      "\u001b[1m> Entering new RetrievalQA chain...\u001b[0m\n",
      "\n",
      "\u001b[1m> Finished chain.\u001b[0m\n"
     ]
    }
   ],
   "source": [
    "# Evaluate the graph-based answers\n",
    "graph_results = []\n",
    "graph_source_documents = []\n",
    "for q in questions:\n",
    "    result = chain.invoke({\"query\": q})\n",
    "    graph_results.append(result[\"result\"])\n",
    "    graph_source_documents.append(result[\"source_documents\"])  # Access source documents"
   ]
  },
  {
   "cell_type": "code",
   "execution_count": 45,
   "metadata": {},
   "outputs": [],
   "source": [
    "# Create a DataFrame to store results\n",
    "df = pd.DataFrame({\n",
    "    'questions': questions,\n",
    "    'graph_results': graph_results,\n",
    "    'graph_source_documents': graph_source_documents\n",
    "})\n",
    "\n",
    "# Save the results to an Excel file\n",
    "df.to_excel('graphrag_results.xlsx', index=False)"
   ]
  }
 ],
 "metadata": {
  "kernelspec": {
   "display_name": "neo4j",
   "language": "python",
   "name": "python3"
  },
  "language_info": {
   "codemirror_mode": {
    "name": "ipython",
    "version": 3
   },
   "file_extension": ".py",
   "mimetype": "text/x-python",
   "name": "python",
   "nbconvert_exporter": "python",
   "pygments_lexer": "ipython3",
   "version": "3.11.9"
  }
 },
 "nbformat": 4,
 "nbformat_minor": 2
}
